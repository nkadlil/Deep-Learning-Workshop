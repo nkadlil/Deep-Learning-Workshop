{
  "nbformat": 4,
  "nbformat_minor": 0,
  "metadata": {
    "colab": {
      "name": "Assignment2_Part2.ipynb",
      "provenance": [],
      "collapsed_sections": []
    },
    "kernelspec": {
      "name": "python3",
      "display_name": "Python 3"
    },
    "language_info": {
      "name": "python"
    },
    "accelerator": "GPU",
    "gpuClass": "standard"
  },
  "cells": [
    {
      "cell_type": "code",
      "execution_count": 28,
      "metadata": {
        "id": "bmcHNkwr5o0t",
        "colab": {
          "base_uri": "https://localhost:8080/"
        },
        "outputId": "014958b0-d948-48c9-89bf-6845c95a25bc"
      },
      "outputs": [
        {
          "output_type": "stream",
          "name": "stdout",
          "text": [
            "Drive already mounted at /content/gdrive; to attempt to forcibly remount, call drive.mount(\"/content/gdrive\", force_remount=True).\n"
          ]
        }
      ],
      "source": [
        "from google.colab import drive\n",
        "drive.mount('/content/gdrive')"
      ]
    },
    {
      "cell_type": "code",
      "source": [
        "import torch, torchvision\n",
        "import torch.nn as nn\n",
        "import torch.nn.functional as F\n",
        "import torch.optim as optim\n",
        "import time\n",
        "import numpy as np\n",
        "import matplotlib.pyplot as plt\n",
        "import os\n",
        "import cv2\n",
        "import glob\n",
        "import numpy\n",
        "import random\n",
        "\n",
        "from PIL import Image\n",
        "from torch.utils.data import Dataset\n",
        "from torch.utils.data import DataLoader\n",
        "from torchvision import datasets, models, transforms\n",
        "from torchsummary import summary"
      ],
      "metadata": {
        "id": "4Lx064SRCCRA"
      },
      "execution_count": 29,
      "outputs": []
    },
    {
      "cell_type": "code",
      "source": [
        "import torchvision\n",
        "import torchvision.transforms as transforms\n",
        "\n",
        "\n",
        "image_transforms = {\n",
        "    'train': transforms.Compose([\n",
        "        transforms.Resize(256),\n",
        "        transforms.RandomRotation(degrees=15),\n",
        "        transforms.CenterCrop(size=224),\n",
        "        transforms.ToTensor(),\n",
        "        transforms.Normalize([0.485, 0.456, 0.406],\n",
        "                             [0.229, 0.224, 0.225])\n",
        "    ]),\n",
        "    'test': transforms.Compose([\n",
        "        transforms.Resize(256),\n",
        "        transforms.CenterCrop(size=224),\n",
        "        transforms.ToTensor(),\n",
        "        transforms.Normalize([0.485, 0.456, 0.406],\n",
        "                             [0.229, 0.224, 0.225])\n",
        "    ])\n",
        "}\n",
        "\n"
      ],
      "metadata": {
        "id": "-uLsjkm8CHQC"
      },
      "execution_count": 30,
      "outputs": []
    },
    {
      "cell_type": "code",
      "source": [
        "dataset = '/content/gdrive/MyDrive/modified_fruit_dataset/'\n",
        "\n",
        "train_directory = os.path.join(dataset, 'train')\n",
        "test_directory = os.path.join(dataset, 'validation')\n",
        "\n",
        "batchSize = 32\n",
        "\n",
        "num_classes = len(os.listdir(train_directory))\n",
        "print(num_classes)\n",
        "\n",
        "data = {\n",
        "    'train': datasets.ImageFolder(root=train_directory, transform=image_transforms['train']),\n",
        "\n",
        "    'test': datasets.ImageFolder(root=test_directory,transform=image_transforms['train']),\n",
        "}\n"
      ],
      "metadata": {
        "colab": {
          "base_uri": "https://localhost:8080/"
        },
        "id": "ljZc4UuYCbEU",
        "outputId": "f4869b78-e7b3-4ea3-e9e4-1ecfb351c0a5"
      },
      "execution_count": 31,
      "outputs": [
        {
          "output_type": "stream",
          "name": "stdout",
          "text": [
            "4\n"
          ]
        }
      ]
    },
    {
      "cell_type": "code",
      "source": [
        "from torch.utils.data import DataLoader\n",
        "trainloader = DataLoader(dataset=data['train'], # use custom created train Dataset\n",
        "                                     batch_size=batchSize, # how many samples per batch?\n",
        "                                     num_workers=2, # how many subprocesses to use for data loading? (higher = more)\n",
        "                                     shuffle=\n",
        "                                     True) # shuffle the data?\n",
        "\n",
        "testloader = DataLoader(dataset=data['test'], # use custom created test Dataset\n",
        "                                    batch_size=batchSize, \n",
        "                                    num_workers=2, \n",
        "                                    shuffle=False) # don't usually need to shuffle testing data\n",
        "\n",
        "train_data_size = len(trainloader.dataset)\n",
        "test_data_size = len(testloader.dataset)\n",
        "\n",
        "print(train_data_size)\n",
        "print(test_data_size)"
      ],
      "metadata": {
        "colab": {
          "base_uri": "https://localhost:8080/"
        },
        "id": "ZF6hsC1pJ8MN",
        "outputId": "58ff9bb4-71f5-4a76-d387-4ecdfd9848b6"
      },
      "execution_count": 33,
      "outputs": [
        {
          "output_type": "stream",
          "name": "stdout",
          "text": [
            "734\n",
            "178\n"
          ]
        }
      ]
    },
    {
      "cell_type": "code",
      "source": [
        "model_ft = models.regnet_y_400mf(pretrained=True)\n",
        "num_ftrs = model_ft.fc.in_features\n",
        "# Here the size of each output sample is set to 10.\n",
        "# Alternatively, it can be generalized to nn.Linear(num_ftrs, len(class_names)).\n",
        "model = nn.Sequential (nn.Linear(num_ftrs, 256),\n",
        "                       nn.ReLU(),\n",
        "                       nn.Dropout(0.7),\n",
        "                       nn.Linear(256,128),\n",
        "                       nn.ReLU(),\n",
        "                       nn.Dropout(0.5),\n",
        "                       nn.Linear(128,64),\n",
        "                       nn.ReLU(),\n",
        "                       nn.Dropout(0.5),\n",
        "                       nn.Linear(64,4))\n",
        "             \n",
        "model_ft.fc = model\n",
        "\n",
        "criterion = nn.CrossEntropyLoss()\n",
        "optimizer = optim.Adam(model_ft.parameters(), lr=0.001)\n",
        "\n",
        "device = torch.device('cuda:0' if torch.cuda.is_available() else 'cpu')\n",
        "model_ft = model_ft.to(device)"
      ],
      "metadata": {
        "colab": {
          "base_uri": "https://localhost:8080/"
        },
        "id": "UCaBdCQuClS_",
        "outputId": "b44481ce-5e7f-4d10-e506-042119e4e73e"
      },
      "execution_count": 34,
      "outputs": [
        {
          "output_type": "stream",
          "name": "stderr",
          "text": [
            "/usr/local/lib/python3.7/dist-packages/torchvision/models/_utils.py:209: UserWarning: The parameter 'pretrained' is deprecated since 0.13 and will be removed in 0.15, please use 'weights' instead.\n",
            "  f\"The parameter '{pretrained_param}' is deprecated since 0.13 and will be removed in 0.15, \"\n",
            "/usr/local/lib/python3.7/dist-packages/torchvision/models/_utils.py:223: UserWarning: Arguments other than a weight enum or `None` for 'weights' are deprecated since 0.13 and will be removed in 0.15. The current behavior is equivalent to passing `weights=RegNet_Y_400MF_Weights.IMAGENET1K_V1`. You can also use `weights=RegNet_Y_400MF_Weights.DEFAULT` to get the most up-to-date weights.\n",
            "  warnings.warn(msg)\n"
          ]
        }
      ]
    },
    {
      "cell_type": "code",
      "source": [
        "import time \n",
        "\n",
        "def train_and_validate(model, loss_criterion, optimizer, epochs=25):\n",
        "    '''\n",
        "    Function to train and validate\n",
        "    Parameters\n",
        "        :param model: Model to train and validate\n",
        "        :param loss_criterion: Loss Criterion to minimize\n",
        "        :param optimizer: Optimizer for computing gradients\n",
        "        :param epochs: Number of epochs (default=25)\n",
        "  \n",
        "    Returns\n",
        "        model: Trained Model with best validation accuracy\n",
        "        history: (dict object): Having training loss, accuracy and validation loss, accuracy\n",
        "    '''\n",
        "    \n",
        "    start = time.time()\n",
        "    history = []\n",
        "    best_acc = 0.0\n",
        "\n",
        "    for epoch in range(epochs):\n",
        "        epoch_start = time.time()\n",
        "        print(\"Epoch: {}/{}\".format(epoch+1, epochs))\n",
        "        \n",
        "        # Set to training mode\n",
        "        model.train()\n",
        "        \n",
        "        # Loss and Accuracy within the epoch\n",
        "        train_loss = 0.0\n",
        "        train_acc = 0.0\n",
        "        \n",
        "        valid_loss = 0.0\n",
        "        valid_acc = 0.0\n",
        "        \n",
        "        for i, (inputs, labels) in enumerate(trainloader):\n",
        "\n",
        "            inputs = inputs.to(device)\n",
        "            labels = labels.to(device)\n",
        "            \n",
        "            # Clean existing gradients\n",
        "            optimizer.zero_grad()\n",
        "            \n",
        "            # Forward pass - compute outputs on input data using the model\n",
        "            outputs = model(inputs)\n",
        "            \n",
        "            # Compute loss\n",
        "            loss = loss_criterion(outputs, labels)\n",
        "            \n",
        "            # Backpropagate the gradients\n",
        "            loss.backward()\n",
        "            \n",
        "            # Update the parameters\n",
        "            optimizer.step()\n",
        "            \n",
        "            # Compute the total loss for the batch and add it to train_loss\n",
        "            train_loss += loss.item() * inputs.size(0)\n",
        "            \n",
        "            # Compute the accuracy\n",
        "            ret, predictions = torch.max(outputs.data, 1)\n",
        "            correct_counts = predictions.eq(labels.data.view_as(predictions))\n",
        "            \n",
        "            # Convert correct_counts to float and then compute the mean\n",
        "            acc = torch.mean(correct_counts.type(torch.FloatTensor))\n",
        "            \n",
        "            # Compute total accuracy in the whole batch and add to train_acc\n",
        "            train_acc += acc.item() * inputs.size(0)\n",
        "            \n",
        "            #print(\"Batch number: {:03d}, Training: Loss: {:.4f}, Accuracy: {:.4f}\".format(i, loss.item(), acc.item()))\n",
        "\n",
        "            \n",
        "        # Validation - No gradient tracking needed\n",
        "        with torch.no_grad():\n",
        "\n",
        "            # Set to evaluation mode\n",
        "            model.eval()\n",
        "\n",
        "            # Validation loop\n",
        "            for j, (inputs, labels) in enumerate(testloader):\n",
        "                inputs = inputs.to(device)\n",
        "                labels = labels.to(device)\n",
        "\n",
        "                # Forward pass - compute outputs on input data using the model\n",
        "                outputs = model(inputs)\n",
        "\n",
        "                # Compute loss\n",
        "                loss = loss_criterion(outputs, labels)\n",
        "\n",
        "                # Compute the total loss for the batch and add it to valid_loss\n",
        "                valid_loss += loss.item() * inputs.size(0)\n",
        "\n",
        "                # Calculate validation accuracy\n",
        "                ret, predictions = torch.max(outputs.data, 1)\n",
        "                correct_counts = predictions.eq(labels.data.view_as(predictions))\n",
        "\n",
        "                # Convert correct_counts to float and then compute the mean\n",
        "                acc = torch.mean(correct_counts.type(torch.FloatTensor))\n",
        "\n",
        "                # Compute total accuracy in the whole batch and add to valid_acc\n",
        "                valid_acc += acc.item() * inputs.size(0)\n",
        "\n",
        "                #print(\"Validation Batch number: {:03d}, Validation: Loss: {:.4f}, Accuracy: {:.4f}\".format(j, loss.item(), acc.item()))\n",
        "            \n",
        "        # Find average training loss and training accuracy\n",
        "        avg_train_loss = train_loss/train_data_size \n",
        "        avg_train_acc = train_acc/train_data_size\n",
        "\n",
        "        # Find average training loss and training accuracy\n",
        "        avg_test_loss = valid_loss/test_data_size \n",
        "        avg_test_acc = valid_acc/test_data_size\n",
        "\n",
        "        history.append([avg_train_loss, avg_test_loss, avg_train_acc, avg_test_acc])\n",
        "                \n",
        "        epoch_end = time.time()\n",
        "    \n",
        "        print(\"Epoch : {:03d}, Training: Loss: {:.4f}, Accuracy: {:.4f}%, \\n\\t\\tValidation : Loss : {:.4f}, Accuracy: {:.4f}%, Time: {:.4f}s\".format(epoch, avg_train_loss, avg_train_acc*100, avg_test_loss, avg_test_acc*100, epoch_end-epoch_start))\n",
        "        \n",
        "        # Save if the model has best accuracy till now\n",
        "        torch.save(model, 'fruit_dataset_'+str(epoch)+'.pt')\n",
        "            \n",
        "    return model, history"
      ],
      "metadata": {
        "id": "jrB2q-NiC6hn"
      },
      "execution_count": 35,
      "outputs": []
    },
    {
      "cell_type": "code",
      "source": [
        "num_epochs = 30\n",
        "trained_model, history = train_and_validate(model_ft, criterion, optimizer, num_epochs)"
      ],
      "metadata": {
        "colab": {
          "base_uri": "https://localhost:8080/"
        },
        "id": "_uifndBFC9dr",
        "outputId": "83a107b7-4037-4c48-dd40-29e20cd16af5"
      },
      "execution_count": 36,
      "outputs": [
        {
          "output_type": "stream",
          "name": "stdout",
          "text": [
            "Epoch: 1/30\n",
            "Epoch : 000, Training: Loss: 1.1532, Accuracy: 45.7766%, \n",
            "\t\tValidation : Loss : 0.8871, Accuracy: 81.4607%, Time: 6.5815s\n",
            "Epoch: 2/30\n",
            "Epoch : 001, Training: Loss: 0.4746, Accuracy: 85.9673%, \n",
            "\t\tValidation : Loss : 2.7155, Accuracy: 67.9775%, Time: 6.4823s\n",
            "Epoch: 3/30\n",
            "Epoch : 002, Training: Loss: 0.1873, Accuracy: 94.5504%, \n",
            "\t\tValidation : Loss : 1.9576, Accuracy: 76.9663%, Time: 6.4218s\n",
            "Epoch: 4/30\n",
            "Epoch : 003, Training: Loss: 0.0844, Accuracy: 97.5477%, \n",
            "\t\tValidation : Loss : 1.5084, Accuracy: 75.8427%, Time: 6.4829s\n",
            "Epoch: 5/30\n",
            "Epoch : 004, Training: Loss: 0.1286, Accuracy: 97.9564%, \n",
            "\t\tValidation : Loss : 0.6539, Accuracy: 83.7079%, Time: 6.4649s\n",
            "Epoch: 6/30\n",
            "Epoch : 005, Training: Loss: 0.1672, Accuracy: 97.1390%, \n",
            "\t\tValidation : Loss : 0.9035, Accuracy: 79.2135%, Time: 6.4463s\n",
            "Epoch: 7/30\n",
            "Epoch : 006, Training: Loss: 0.1099, Accuracy: 98.0926%, \n",
            "\t\tValidation : Loss : 2.0798, Accuracy: 64.0449%, Time: 6.3931s\n",
            "Epoch: 8/30\n",
            "Epoch : 007, Training: Loss: 0.0675, Accuracy: 98.9101%, \n",
            "\t\tValidation : Loss : 2.3145, Accuracy: 69.1011%, Time: 6.3877s\n",
            "Epoch: 9/30\n",
            "Epoch : 008, Training: Loss: 0.0609, Accuracy: 98.7738%, \n",
            "\t\tValidation : Loss : 0.6452, Accuracy: 82.5843%, Time: 6.4502s\n",
            "Epoch: 10/30\n",
            "Epoch : 009, Training: Loss: 0.0214, Accuracy: 99.4550%, \n",
            "\t\tValidation : Loss : 2.5697, Accuracy: 69.6629%, Time: 6.3379s\n",
            "Epoch: 11/30\n",
            "Epoch : 010, Training: Loss: 0.1267, Accuracy: 97.4114%, \n",
            "\t\tValidation : Loss : 1.1126, Accuracy: 71.9101%, Time: 6.3828s\n",
            "Epoch: 12/30\n",
            "Epoch : 011, Training: Loss: 0.0553, Accuracy: 98.9101%, \n",
            "\t\tValidation : Loss : 1.4745, Accuracy: 68.5393%, Time: 6.4369s\n",
            "Epoch: 13/30\n",
            "Epoch : 012, Training: Loss: 0.0358, Accuracy: 99.1826%, \n",
            "\t\tValidation : Loss : 0.8222, Accuracy: 85.3933%, Time: 6.4189s\n",
            "Epoch: 14/30\n",
            "Epoch : 013, Training: Loss: 0.0342, Accuracy: 99.1826%, \n",
            "\t\tValidation : Loss : 1.6307, Accuracy: 76.9663%, Time: 6.3740s\n",
            "Epoch: 15/30\n",
            "Epoch : 014, Training: Loss: 0.0349, Accuracy: 99.3188%, \n",
            "\t\tValidation : Loss : 3.1655, Accuracy: 65.7303%, Time: 6.4548s\n",
            "Epoch: 16/30\n",
            "Epoch : 015, Training: Loss: 0.0172, Accuracy: 99.5913%, \n",
            "\t\tValidation : Loss : 2.8146, Accuracy: 68.5393%, Time: 6.4379s\n",
            "Epoch: 17/30\n",
            "Epoch : 016, Training: Loss: 0.0183, Accuracy: 99.5913%, \n",
            "\t\tValidation : Loss : 1.5033, Accuracy: 82.0225%, Time: 6.4355s\n",
            "Epoch: 18/30\n",
            "Epoch : 017, Training: Loss: 0.0099, Accuracy: 99.7275%, \n",
            "\t\tValidation : Loss : 1.5278, Accuracy: 76.4045%, Time: 6.9778s\n",
            "Epoch: 19/30\n",
            "Epoch : 018, Training: Loss: 0.0534, Accuracy: 98.7738%, \n",
            "\t\tValidation : Loss : 19.8446, Accuracy: 65.1685%, Time: 6.9225s\n",
            "Epoch: 20/30\n",
            "Epoch : 019, Training: Loss: 0.0983, Accuracy: 97.6839%, \n",
            "\t\tValidation : Loss : 1.1698, Accuracy: 64.6067%, Time: 6.4731s\n",
            "Epoch: 21/30\n",
            "Epoch : 020, Training: Loss: 0.0938, Accuracy: 97.5477%, \n",
            "\t\tValidation : Loss : 0.6870, Accuracy: 77.5281%, Time: 6.2966s\n",
            "Epoch: 22/30\n",
            "Epoch : 021, Training: Loss: 0.0280, Accuracy: 99.1826%, \n",
            "\t\tValidation : Loss : 1.2193, Accuracy: 75.2809%, Time: 6.3867s\n",
            "Epoch: 23/30\n",
            "Epoch : 022, Training: Loss: 0.0581, Accuracy: 99.1826%, \n",
            "\t\tValidation : Loss : 1.7995, Accuracy: 68.5393%, Time: 6.4269s\n",
            "Epoch: 24/30\n",
            "Epoch : 023, Training: Loss: 0.0615, Accuracy: 98.9101%, \n",
            "\t\tValidation : Loss : 0.9393, Accuracy: 77.5281%, Time: 6.4139s\n",
            "Epoch: 25/30\n",
            "Epoch : 024, Training: Loss: 0.0775, Accuracy: 98.6376%, \n",
            "\t\tValidation : Loss : 11.3635, Accuracy: 55.0562%, Time: 6.4690s\n",
            "Epoch: 26/30\n",
            "Epoch : 025, Training: Loss: 0.0819, Accuracy: 98.2289%, \n",
            "\t\tValidation : Loss : 2.3808, Accuracy: 71.3483%, Time: 6.4236s\n",
            "Epoch: 27/30\n",
            "Epoch : 026, Training: Loss: 0.1003, Accuracy: 97.8202%, \n",
            "\t\tValidation : Loss : 1.0143, Accuracy: 76.9663%, Time: 6.4211s\n",
            "Epoch: 28/30\n",
            "Epoch : 027, Training: Loss: 0.0233, Accuracy: 99.3188%, \n",
            "\t\tValidation : Loss : 1.5973, Accuracy: 71.9101%, Time: 6.4212s\n",
            "Epoch: 29/30\n",
            "Epoch : 028, Training: Loss: 0.0100, Accuracy: 99.8638%, \n",
            "\t\tValidation : Loss : 1.6523, Accuracy: 73.5955%, Time: 6.4101s\n",
            "Epoch: 30/30\n",
            "Epoch : 029, Training: Loss: 0.0427, Accuracy: 99.5913%, \n",
            "\t\tValidation : Loss : 2.8102, Accuracy: 76.4045%, Time: 6.4121s\n"
          ]
        }
      ]
    },
    {
      "cell_type": "code",
      "source": [
        "history = np.array(history)\n",
        "plt.plot(history[:,0:2])\n",
        "plt.legend(['Tr Loss', 'Val Loss'])\n",
        "plt.xlabel('Epoch Number')\n",
        "plt.ylabel('Loss')\n",
        "plt.ylim(0,3)\n",
        "# plt.savefig('cifar10_loss_curve.png')\n",
        "plt.show()"
      ],
      "metadata": {
        "id": "McHfSiQ_CWfp",
        "colab": {
          "base_uri": "https://localhost:8080/",
          "height": 283
        },
        "outputId": "74ca4065-337e-49a5-ae33-00dd56a33023"
      },
      "execution_count": 37,
      "outputs": [
        {
          "output_type": "display_data",
          "data": {
            "text/plain": [
              "<Figure size 432x288 with 1 Axes>"
            ],
            "image/png": "[encoded data removed]"
          },
          "metadata": {
            "needs_background": "light"
          }
        }
      ]
    },
    {
      "cell_type": "code",
      "source": [
        "plt.plot(history[:,2:4])\n",
        "plt.legend(['Tr Accuracy', 'Val Accuracy'])\n",
        "plt.xlabel('Epoch Number')\n",
        "plt.ylabel('Accuracy')\n",
        "plt.ylim(0,1)\n",
        "# plt.savefig('cifar10_accuracy_curve.png')\n",
        "plt.show()"
      ],
      "metadata": {
        "id": "SMUaJj_cQoKT",
        "colab": {
          "base_uri": "https://localhost:8080/",
          "height": 283
        },
        "outputId": "d5205670-cc01-4e6e-fcc4-eeae87d840ff"
      },
      "execution_count": 38,
      "outputs": [
        {
          "output_type": "display_data",
          "data": {
            "text/plain": [
              "<Figure size 432x288 with 1 Axes>"
            ],
            "image/png": "[encoded data removed]"
          },
          "metadata": {
            "needs_background": "light"
          }
        }
      ]
    },
    {
      "cell_type": "code",
      "source": [
        "# prepare to count predictions for each class\n",
        "correct_pred = {classname: 0 for classname in os.listdir(train_directory)}\n",
        "total_pred = {classname: 0 for classname in os.listdir(train_directory)}\n",
        "\n",
        "# again no gradients needed\n",
        "with torch.no_grad():\n",
        "    for data in testloader:\n",
        "        images, labels = data[0].to(device), data[1].to(device)\n",
        "#         images = images.view(images.size(0), -1)\n",
        "        outputs = model_ft(images)\n",
        "        _, predictions = torch.max(outputs, 1)\n",
        "        # collect the correct predictions for each class\n",
        "        for label, prediction in zip(labels, predictions):\n",
        "            if label == prediction:\n",
        "                correct_pred[os.listdir(train_directory)[label]] += 1\n",
        "            total_pred[os.listdir(train_directory)[label]] += 1\n",
        "\n",
        "\n",
        "# print accuracy for each class\n",
        "for classname, correct_count in correct_pred.items():\n",
        "    accuracy = 100 * float(correct_count) / total_pred[classname]\n",
        "    print(f'Accuracy for class: {classname:5s} is {accuracy:.1f} %')"
      ],
      "metadata": {
        "colab": {
          "base_uri": "https://localhost:8080/"
        },
        "id": "pKObeG32MlKd",
        "outputId": "a74676ec-bf74-4483-9c4b-a82f8e6ddd0f"
      },
      "execution_count": 39,
      "outputs": [
        {
          "output_type": "stream",
          "name": "stdout",
          "text": [
            "Accuracy for class: tomato is 92.5 %\n",
            "Accuracy for class: watermelon is 37.5 %\n",
            "Accuracy for class: durian is 85.4 %\n",
            "Accuracy for class: pumpkin is 82.0 %\n"
          ]
        }
      ]
    },
    {
      "cell_type": "code",
      "source": [
        "from sklearn.metrics import confusion_matrix\n",
        "import seaborn as sn\n",
        "import pandas as pd\n",
        "\n",
        "y_pred = []\n",
        "y_true = []\n",
        "\n",
        "model_ft.to('cpu')\n",
        "\n",
        "# iterate over test data\n",
        "for inputs, labels in testloader:\n",
        "#         #reshape images so they can be fed to a nn.Linear()\n",
        "#         inputs = inputs.view(inputs.size(0), -1)\n",
        "        output = model_ft(inputs) # Feed Network\n",
        "\n",
        "        output = (torch.max(torch.exp(output), 1)[1]).data.cpu().numpy()\n",
        "        y_pred.extend(output) # Save Prediction\n",
        "        \n",
        "        labels = labels.data.cpu().numpy()\n",
        "        y_true.extend(labels) # Save Truth\n",
        "\n",
        "# constant for classes\n",
        "classes = ('tomato', 'watermelon', 'durian', 'pumpkin',\n",
        "       )\n",
        "\n",
        "# Build confusion matrix\n",
        "cf_matrix = confusion_matrix(y_true, y_pred)\n",
        "df_cm = pd.DataFrame(cf_matrix/np.sum(cf_matrix) *10, index = [i for i in classes],\n",
        "                     columns = [i for i in classes])\n",
        "plt.figure(figsize = (20,10))\n",
        "sn.heatmap(df_cm, annot=True)\n",
        "# plt.savefig('output.png')"
      ],
      "metadata": {
        "colab": {
          "base_uri": "https://localhost:8080/",
          "height": 561
        },
        "id": "ui1hqlJ08n5M",
        "outputId": "f9fa6b09-df1b-40db-b327-e1965a6b78f8"
      },
      "execution_count": 42,
      "outputs": [
        {
          "output_type": "execute_result",
          "data": {
            "text/plain": [
              "<matplotlib.axes._subplots.AxesSubplot at 0x7f827e04ea90>"
            ]
          },
          "metadata": {},
          "execution_count": 42
        },
        {
          "output_type": "display_data",
          "data": {
            "text/plain": [
              "<Figure size 1440x720 with 2 Axes>"
            ],
            "image/png": "[encoded data removed]"
          },
          "metadata": {
            "needs_background": "light"
          }
        }
      ]
    },
    {
      "cell_type": "code",
      "source": [
        "save_path = '/content/gdrive/MyDrive/Colab Notebooks/Fruit_model.pt'\n",
        "torch.save(model_ft, save_path)"
      ],
      "metadata": {
        "id": "yXx8VzFk8osq"
      },
      "execution_count": 43,
      "outputs": []
    }
  ]
}